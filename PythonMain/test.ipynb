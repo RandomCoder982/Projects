{
 "cells": [
  {
   "cell_type": "code",
   "execution_count": null,
   "metadata": {},
   "outputs": [],
   "source": [
    "import matplotlib.pyplot as plt\n",
    "from matplotlib.animation import FuncAnimation\n",
    "import numpy as np\n",
    "\n",
    "dt = 0.005\n",
    "n=20\n",
    "L = 1\n",
    "particles=np.zeros(n,dtype=[(\"position\", float , 2),\n",
    "                           (\"velocity\", float ,2),\n",
    "                           (\"force\", float ,2),\n",
    "                           (\"size\", float , 1)])\n",
    "\n",
    "particles[\"position\"]=np.random.uniform(0,L,(n,2));\n",
    "particles[\"velocity\"]=np.zeros((n,2));\n",
    "particles[\"size\"]=0.5*np.ones(n);\n",
    "\n",
    "fig = plt.figure(figsize=(7,7))\n",
    "ax = plt.axes(xlim=(0,L),ylim=(0,L))\n",
    "scatter=ax.scatter(particles[\"position\"][:,0], particles[\"position\"][:,1])\n",
    "\n",
    "def update(frame_number):\n",
    "   particles[\"force\"]=np.random.uniform(-2,2.,(n,2));\n",
    "   particles[\"velocity\"] = particles[\"velocity\"] + particles[\"force\"]*dt\n",
    "   particles[\"position\"] = particles[\"position\"] + particles[\"velocity\"]*dt\n",
    "\n",
    "   particles[\"position\"] = particles[\"position\"]%L\n",
    "   scatter.set_offsets(particles[\"position\"])\n",
    "   return scatter,\n",
    "\n",
    "anim = FuncAnimation(fig, update, interval=10)\n",
    "plt.show()"
   ]
  }
 ],
 "metadata": {
  "language_info": {
   "name": "python"
  }
 },
 "nbformat": 4,
 "nbformat_minor": 2
}
